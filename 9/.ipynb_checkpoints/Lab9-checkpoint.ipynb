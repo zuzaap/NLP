{
 "cells": [
  {
   "cell_type": "markdown",
   "metadata": {},
   "source": [
    "# Named Entity Recognition - Rozpoznawanie encji nazwanych / tagowanie sekwencji\n",
    "\n",
    "Dotychczas na większości zajęć rozważaliśmy problem klasyfikacji, w którym całym dokumentom przypisywalśmy pojedynczą etykietę (sentyment związany z dokumentem, informacja o tym, czy tekst jest spamowy, etykieta mówiąca o tym w jakim języku napisany jest dokument). Warto jednak również wspomnieć o tzw. tagowaniu sekwencji, które dla każdego elementu sekwencji (słowa) nadaje odpowiednią etykietę.\n",
    "\n",
    "Gdzie taka procedura ma zastosowanie? Wymieńmy kilka przykładów \n",
    "<ol>\n",
    "    <li>Wykrywanie wyrażeń dotyczących miejsc, ludzi, czasu, lokalizacji itp. - każde kolejne słowo tagowane jest informacją mówiącą o tym, czy dane słowo jest częścią pożądanego przez nas typu (np. częścią lokalizacji), czy nie (np. z użyciem kodowania IOB, o którym mówiliśmy przy okazji zajęć dotyczących CONLL)</li>\n",
    "    <li>Tagowanie częściami mowy - każde słowo otrzymuje etykietę mówiącą o tym jaka część mowy reprezentowana jest przez aktualny token.</li>\n",
    "    <li>Wykrywanie ważnych z naszego punktu widzenia fraz (nazwy produktów, technologii itp.)</li>\n",
    "    <li>...</li>\n",
    "</ol>\n",
    "\n",
    "Mówiąc o encjach nazwanych (Named Entities) - mówimy o frazach, którym nadaliśmy określony typ, np: \"01.06.2018\" - typ \"Data\", \"Poznań, Polska\" - typ \"Lokalizacja\", \"GeForce 1080 GTX Ultra\" - typ \"Sprzęt Komputerowy\".\n",
    "\n",
    "Dzisiejsze laboratoria dotyczyć będą właśnie tagowania sekwencji słów z użyciem tzw. NERa (Named Entity Recognizer - Detektor encji nazwanych)."
   ]
  },
  {
   "cell_type": "markdown",
   "metadata": {},
   "source": [
    "## Gotowy NER - SpaCy\n",
    "\n",
    "W przypadku, kiedy chcemy dla tekstów w języku angielskim w szybki sposób wyszukać bardzo popularne frazy typu: data lub lokalizacja - jest bardzo duża szansa, że możemy wykorzystać gotowe modele narzędzi takich jak NLTK, czy SpaCy.\n",
    "\n",
    "**Zadanie1 (1 punkt)**: \n",
    "<ol>\n",
    "<li>Korzystając z dokumentacji SpaCy dotyczącej NERa (https://spacy.io/usage/linguistic-features#section-named-entities) Wyświetl encje nazwane, znalezione w tekście ze zmiennej 'text'. Wykorzystaj model o nazwie 'en_core_web_md'.</li>\n",
    "<li>Sprawdź, jakiego typu encje wyszukiwane są przez NER ze SpaCy w standardowych modelach dla języka angielskiego (https://spacy.io/api/annotation)</li>\n",
    "\n"
   ]
  },
  {
   "cell_type": "code",
   "execution_count": 1,
   "metadata": {},
   "outputs": [
    {
     "name": "stdout",
     "output_type": "stream",
     "text": [
      "Jim Gates PERSON\n",
      "300 CARDINAL\n",
      "Acme Corp. ORG\n",
      "2006 DATE\n"
     ]
    }
   ],
   "source": [
    "import spacy\n",
    "\n",
    "text = \"Jim Gates bought 300 shares of Acme Corp. in 2006.\"\n",
    "\n",
    "nlp = spacy.load(\"en_core_web_sm\")\n",
    "doc = nlp(text)\n",
    "\n",
    "for ent in doc.ents:\n",
    "    print(ent.text, ent.label_)"
   ]
  },
  {
   "cell_type": "markdown",
   "metadata": {},
   "source": [
    "Typy Encji: PER, LOC, ORG, MISC"
   ]
  },
  {
   "cell_type": "markdown",
   "metadata": {},
   "source": [
    "Oczekiwany rezultat:\n",
    "<pre>\n",
    "Jim Gates PERSON\n",
    "300 CARDINAL\n",
    "Acme Corp. ORG\n",
    "2006 DATE\n",
    "</pre>\n",
    "\n",
    "## Gotowy NER - NLTK\n",
    "\n",
    "Również NLTK udostępnia nam wykrywanie encji nazwanych. Spróbujmy to zrobić.\n",
    "\n",
    "**Zadanie2 (1 punkt):**\n",
    "Korzystając z dokumentacji NLTK wykonaj wykrywanie encji nazwanych z przykładowego zdania wykonując sekwencję kroków:\n",
    "<ol>\n",
    "    <li>Wykorzystaj funkcję word_tokenize do podziału zdania na tokeny.</li>\n",
    "    <li>Na reprezentacji zwróconej z kroku: \"podział na tokeny\", wykonaj POS-tagging (nadaj każdemu tokenowi część mowy) z użyciem funkcji pos_tag()</li>\n",
    "    <li>Na wyniku tagowania częściami mowy - wykonaj funkcję ne_chunk() do wykrycia encji.</li>\n",
    "    <li>Jeśli wyświetlisz wynik funkcji ne_chunk zobaczysz coś co bardzo luźno przypomina drzewo, użyj funkcji tree2conlltags() aby zamienić tę reprezentację, na trójki CONLL i wyświetl wynik tej funkcji jako rozwiązanie zadania</li>\n",
    "</ol>\n",
    "\n",
    "Funkcje, których należy użyć to word_tokenize, pos_tag, ne_chunk, tree2conlltags. Wszystkie zostały już zaimportowane."
   ]
  },
  {
   "cell_type": "code",
   "execution_count": 2,
   "metadata": {
    "scrolled": true
   },
   "outputs": [
    {
     "name": "stdout",
     "output_type": "stream",
     "text": [
      "[('Jim', 'NNP', 'B-PERSON'), ('Gates', 'NNP', 'B-PERSON'), ('bought', 'VBD', 'O'), ('300', 'CD', 'O'), ('shares', 'NNS', 'O'), ('of', 'IN', 'O'), ('Acme', 'NNP', 'B-ORGANIZATION'), ('Corp.', 'NNP', 'I-ORGANIZATION'), ('in', 'IN', 'O'), ('2006', 'CD', 'O'), ('.', '.', 'O')]\n"
     ]
    }
   ],
   "source": [
    "from nltk import word_tokenize, pos_tag, ne_chunk\n",
    "from nltk.chunk import tree2conlltags\n",
    "\n",
    "sentence = \"Jim Gates bought 300 shares of Acme Corp. in 2006.\"\n",
    "\n",
    "tokens = word_tokenize(sentence)\n",
    "tagged = pos_tag(tokens)\n",
    "entities = ne_chunk(tagged)\n",
    "after_tree2conlltags = tree2conlltags(entities)\n",
    "print(after_tree2conlltags)"
   ]
  },
  {
   "cell_type": "markdown",
   "metadata": {},
   "source": [
    "Oczekiwany rezultat:\n",
    "\n",
    "<pre>\n",
    "[('Jim', 'NNP', 'B-PERSON'), ('Gates', 'NNP', 'B-PERSON'), ('bought', 'VBD', 'O'), ('300', 'CD', 'O'), ('shares', 'NNS', 'O'), ('of', 'IN', 'O'), ('Acme', 'NNP', 'B-ORGANIZATION'), ('Corp.', 'NNP', 'I-ORGANIZATION'), ('in', 'IN', 'O'), ('2006', 'CD', 'O'), ('.', '.', 'O')]\n",
    "</pre>\n",
    "## Własny NER - trening z użyciem algorytmu CRF (Conditional Random Fields)\n",
    "\n",
    "Wykrywacze encji wytrenowane są do odnajdywania popularnych typów fraz (Daty, Lokalizacje, Osoby, ...). Co jednak, kiedy chcielibyśmy wykrywać zdefiniowane przez nas typy danych (np. sprzęt komputerowy), które nie są domyśnie wspierane przez istniejące modele? Musielibyśmy wytrenować własnego NERa. Użyjmy paczki 'pycrfsuite' do tego celu.\n",
    "\n",
    "PyCRFSuite implementuje algorytm CRF - bardzo wydajny algorytm, który potrafi uczyć się tagowania poszczególnych słów z użyciem np. kodowania IOB. Aby rozróżnić różne rodzaje encji, często tagi \"I\" i \"B\" kodowania IOB opatruje się dodatkowym sufiksem. Np. B-Date - oznacza początek daty, a I-Location - kontynuację frazy zawierającej lokację.\n",
    "\n",
    "Ponieważ to czy dane słowo jest encją nazwaną zależy zarówno od tego jak dane słowo wygląda, jak i od słów poprzedzających i następujących po aktualnym - w opisie cech CRFów również uwzględnia się informacje o okalających słowach.\n",
    "\n",
    "**Zadanie (2 punkty)** Wytrenuj model, który będzie tagował poszczególne słowa w tekście z użyciem pycfrsuite. Aby to zrobić, wykonaj podzadania w krokach poniżej.\n",
    "\n",
    "Nasz NER będzie się uczyć etykiet na zbiorze tekstów hiszpańskich, które poddane są podziałowi na zdania, tokenizacji, tagowaniem częściami mowy i etykietami encji do wykrycia w formacie IOB. "
   ]
  },
  {
   "cell_type": "code",
   "execution_count": 3,
   "metadata": {},
   "outputs": [
    {
     "data": {
      "text/plain": [
       "[('El', 'DA', 'O'),\n",
       " ('Abogado', 'NC', 'B-PER'),\n",
       " ('General', 'AQ', 'I-PER'),\n",
       " ('del', 'SP', 'I-PER'),\n",
       " ('Estado', 'NC', 'I-PER'),\n",
       " (',', 'Fc', 'O'),\n",
       " ('Daryl', 'VMI', 'B-PER'),\n",
       " ('Williams', 'NC', 'I-PER'),\n",
       " (',', 'Fc', 'O'),\n",
       " ('subrayó', 'VMI', 'O'),\n",
       " ('hoy', 'RG', 'O'),\n",
       " ('la', 'DA', 'O'),\n",
       " ('necesidad', 'NC', 'O'),\n",
       " ('de', 'SP', 'O'),\n",
       " ('tomar', 'VMN', 'O'),\n",
       " ('medidas', 'NC', 'O'),\n",
       " ('para', 'SP', 'O'),\n",
       " ('proteger', 'VMN', 'O'),\n",
       " ('al', 'SP', 'O'),\n",
       " ('sistema', 'NC', 'O'),\n",
       " ('judicial', 'AQ', 'O'),\n",
       " ('australiano', 'AQ', 'O'),\n",
       " ('frente', 'RG', 'O'),\n",
       " ('a', 'SP', 'O'),\n",
       " ('una', 'DI', 'O'),\n",
       " ('página', 'NC', 'O'),\n",
       " ('de', 'SP', 'O'),\n",
       " ('internet', 'NC', 'O'),\n",
       " ('que', 'PR', 'O'),\n",
       " ('imposibilita', 'VMI', 'O'),\n",
       " ('el', 'DA', 'O'),\n",
       " ('cumplimiento', 'NC', 'O'),\n",
       " ('de', 'SP', 'O'),\n",
       " ('los', 'DA', 'O'),\n",
       " ('principios', 'NC', 'O'),\n",
       " ('básicos', 'AQ', 'O'),\n",
       " ('de', 'SP', 'O'),\n",
       " ('la', 'DA', 'O'),\n",
       " ('Ley', 'NC', 'B-MISC'),\n",
       " ('.', 'Fp', 'O')]"
      ]
     },
     "execution_count": 3,
     "metadata": {},
     "output_type": "execute_result"
    }
   ],
   "source": [
    "import nltk\n",
    "import sklearn\n",
    "import pycrfsuite\n",
    "\n",
    "train_sents = list(nltk.corpus.conll2002.iob_sents('esp.train')) # załaduj korpus treningowy dla języka hiszpańskiego\n",
    "test_sents = list(nltk.corpus.conll2002.iob_sents('esp.testb'))  # załaduj korpus testowy dla języka hiszpańskiego\n",
    "train_sents[2] # wyświetla przykładowe zdanie, aby zobaczyć jak reprezentowane są dane"
   ]
  },
  {
   "cell_type": "markdown",
   "metadata": {},
   "source": [
    "**Zadanie 2a (1 punkt)** Tworzenie cech. PyCRFSuite oczekuje, że każde słowo opisane będzie zestawem odpowiednich cech w formie pythonowego słownika. Uzupełnij kod funkcji word2features (sekcje TODO) tak, aby stworzyć odpowiednie cechy zgodnie z nazwami i komentarzami do poszczególnych pól."
   ]
  },
  {
   "cell_type": "code",
   "execution_count": 4,
   "metadata": {},
   "outputs": [],
   "source": [
    "def word2features(sent, i):\n",
    "    word = sent[i][0]  # sent[i] ma postać np. ('Ley', 'NC', 'B-MISC'); Indeks 0 oznacza pierwszy element z nawiasów (tupli), czyli w tym przypadku 'Ley'\n",
    "    postag = sent[i][1] # sent[i] ma postać np. ('Ley', 'NC', 'B-MISC'); Indeks 0 oznacza pierwszy element z nawiasów (tupli), czyli w tym przypadku 'NC'\n",
    "    \n",
    "    features = {      # cechy aktualnego słowo\n",
    "        'bias': 1.0,\n",
    "        'lowercase_word': word.lower(), # TODO, tutaj słowo małymi literami\n",
    "        'word_last_3_chars': word[-3:], # TODO, tutaj ostatnie 3 znaki słowa\n",
    "        'word_last_2_chars': word[-2:], # TODO, tutaj ostatnie 2 znaki słowa\n",
    "        'word_is_uppercase': word.isupper(), # TODO, tutaj flaga (True/False), czy słowo jest uppercase\n",
    "        'word_is_digit': word.isdigit(), # TODO, tutaj flaga (True/False), czy słowo jest liczbą\n",
    "        'postag': postag, # TODO, tutaj pos-tag (patrz początek definicji funkcji)\n",
    "        'postag_first_two_chars': postag[:2] # TODO, tutaj pierwsze 2 znaki pos-tagu  \n",
    "    }\n",
    "    if i > 0:         # jeśli nasze słowo nie jest pierwszym w zdaniu - dodajmy do zbioru naszych cech cechy poprzedniego tokenu\n",
    "        word1 = sent[i-1][0]    # poprzednie słowo\n",
    "        postag1 = sent[i-1][1]  # poprzedni pos-tag\n",
    "        \n",
    "        features.update({       # funkcja update() na słowniku dopisuje dodatkowe atrybuty do istniejącego słownika\n",
    "            'previous_word_lower': word1.lower(), # TODO, tutaj poprzednie słowo małymi literami\n",
    "            'previous_word_is_upppercase': word1.isupper(),  # TODO, tutaj flaga (True/False), czy słowo jest uppercase\n",
    "            'previous_word_postag': postag1, # TODO, tutaj pos-tag poprzedniego słowa \n",
    "            'previous_word_postag_first_two_chars': postag1[:2] # TODO, tutaj pierwsze 2 znaki pos-tagu  poprzedniego słowa\n",
    "        })\n",
    "    else:\n",
    "        features['BOS'] = True   # jeśli to pierwszy token - ustawmy cechę BOS (Begin of Sentence) na True\n",
    "        \n",
    "    if i < len(sent)-1:          # Jeśli nasze słowo nie jest ostatnim - dodajmy do zbioru cech cechy następnego słowa \n",
    "        word1 = sent[i+1][0]     # następne słowo\n",
    "        postag1 = sent[i+1][1]   # następny postag\n",
    "        \n",
    "        features.update({        # funkcja update() na słowniku dopisuje dodatkowe atrybuty do istniejącego słownika\n",
    "            'next_word_is_lower': word1.islower(), # TODO, tutaj flaga - czy następne słowo małymi literami\n",
    "            'next_word_is_upppercase': word1.isupper(), # TODO, tutaj flaga (True/False), czy słowo jest uppercase\n",
    "            'next_word_postag': postag1, # TODO, tutaj pos-tag następnego słowa \n",
    "            'next_word_postag_first_two_chars': postag1[:2] # TODO, tutaj pierwsze 2 znaki pos-tagu  następnego słowa\n",
    "        })\n",
    "    else:\n",
    "        features['EOS'] = True   # jeśli to ostatni token - ustawmy cechę EOS (End of Sentence) na True\n",
    "                \n",
    "    return features\n",
    "\n",
    "\n",
    "\n",
    "def sent2features(sent):\n",
    "    return [word2features(sent, i) for i in range(len(sent))] # zamień każde słowo ze zdania na słownik cech"
   ]
  },
  {
   "cell_type": "code",
   "execution_count": 5,
   "metadata": {},
   "outputs": [
    {
     "data": {
      "text/plain": [
       "{'bias': 1.0,\n",
       " 'lowercase_word': 'melbourne',\n",
       " 'word_last_3_chars': 'rne',\n",
       " 'word_last_2_chars': 'ne',\n",
       " 'word_is_uppercase': False,\n",
       " 'word_is_digit': False,\n",
       " 'postag': 'NP',\n",
       " 'postag_first_two_chars': 'NP',\n",
       " 'BOS': True,\n",
       " 'next_word_is_lower': False,\n",
       " 'next_word_is_upppercase': False,\n",
       " 'next_word_postag': 'Fpa',\n",
       " 'next_word_postag_first_two_chars': 'Fp'}"
      ]
     },
     "execution_count": 5,
     "metadata": {},
     "output_type": "execute_result"
    }
   ],
   "source": [
    "sent2features(train_sents[0])[0]"
   ]
  },
  {
   "cell_type": "markdown",
   "metadata": {},
   "source": [
    "Oczekiwany rezultat: \n",
    "<pre>\n",
    "{'BOS': True,\n",
    " 'bias': 1.0,\n",
    " 'lowercase_word': 'melbourne',\n",
    " 'next_word_lower': 'False',\n",
    " 'next_word_is_upppercase': False,\n",
    " 'next_word_postag': 'Fpa',\n",
    " 'next_word_postag_first_two_chars': 'Fp',\n",
    " 'postag': 'NP',\n",
    " 'postag_first_two_chars': 'NP',\n",
    " 'word_is_digit': False,\n",
    " 'word_is_uppercase': False,\n",
    " 'word_last_2_chars': 'ne',\n",
    " 'word_last_3_chars': 'rne'}\n",
    "</pre>\n",
    " \n",
    " **Zadanie 2b (1 punkt) - napisz ciała funkcji pomocniczych, które dla aktualnego zdania z train_sents i test_sents zwrócą:**\n",
    " <ul>\n",
    "     <li>sent2labels - zwróci ciąg oczkiwanych etykiet dla każdego wyrazu. parametr sent jest listą słów, z których każde słowo opisane jest trójką: tekst słowa, pos-tag słowa, etykieta słowa; np. ('Abogado', 'NC', 'B-PER') </li>\n",
    "     <li>sent2tokens - analogicznie do powyższego, jednak zamiast etykiet zwróci ciąg słów bez pos-tagów i etykiet.</li>\n",
    "     <li>get_all_labels - funkcja, która ze zbioru wszystkich zdań treningowych wyświetli zbiór etykiet (zbiór, czyli bez powtórzeń). Funkcja pokaże nam ilu etykiet chcemy się nauczyć, aby móc ocenić trudność naszego problemu.</li>\n",
    " </ul>"
   ]
  },
  {
   "cell_type": "code",
   "execution_count": 6,
   "metadata": {},
   "outputs": [
    {
     "name": "stdout",
     "output_type": "stream",
     "text": [
      "['B-LOC', 'O', 'B-LOC', 'O', 'O', 'O', 'O', 'O', 'B-ORG', 'O', 'O']\n",
      "['Melbourne', '(', 'Australia', ')', ',', '25', 'may', '(', 'EFE', ')', '.']\n",
      "{'I-LOC', 'B-LOC', 'I-MISC', 'O', 'I-PER', 'B-MISC', 'B-PER', 'I-ORG', 'B-ORG'}\n"
     ]
    }
   ],
   "source": [
    "def sent2labels(sent):\n",
    "    labels = [i[2] for i in sent]\n",
    "    return labels\n",
    "\n",
    "def sent2tokens(sent):\n",
    "    tokens = [i[0] for i in sent]\n",
    "    return tokens\n",
    "\n",
    "def get_all_labels(train_sents):            \n",
    "    all_labels = set([i[2] for sent in train_sents for i in sent])\n",
    "    return all_labels\n",
    "\n",
    "\n",
    "print(sent2labels(train_sents[0]))\n",
    "print(sent2tokens(train_sents[0]))\n",
    "print(get_all_labels(train_sents))"
   ]
  },
  {
   "cell_type": "markdown",
   "metadata": {},
   "source": [
    "Oczekiwany rezultat:\n",
    "<pre>\n",
    "['B-LOC', 'O', 'B-LOC', 'O', 'O', 'O', 'O', 'O', 'B-ORG', 'O', 'O']\n",
    "['Melbourne', '(', 'Australia', ')', ',', '25', 'may', '(', 'EFE', ')', '.']\n",
    "{'I-PER', 'I-MISC', 'B-LOC', 'I-LOC', 'B-PER', 'B-MISC', 'I-ORG', 'B-ORG', 'O'}\n",
    "</pre>\n",
    "\n",
    "Uruchom poniższy kod i sprawdź czego nauczył się nasz NER."
   ]
  },
  {
   "cell_type": "code",
   "execution_count": 7,
   "metadata": {},
   "outputs": [
    {
     "name": "stdout",
     "output_type": "stream",
     "text": [
      "La Coruña , 23 may ( EFECOM ) .\n",
      "\n",
      "Predicted: B-LOC I-LOC O O O O B-ORG O O\n",
      "Correct:   B-LOC I-LOC O O O O B-ORG O O\n"
     ]
    }
   ],
   "source": [
    "X_train = [sent2features(s) for s in train_sents] # Stwórz cechy zbioru treningowego\n",
    "y_train = [sent2labels(s) for s in train_sents]   # Pobierz etykiety zbioru treningowego\n",
    "\n",
    "X_test = [sent2features(s) for s in test_sents]   # Stwórz cechy zbioru testowego\n",
    "y_test = [sent2labels(s) for s in test_sents]     # Pobierz etykiety zbioru testowego\n",
    "\n",
    "trainer = pycrfsuite.Trainer(verbose=False)    # stwórz obiekt trenujący\n",
    "\n",
    "for xseq, yseq in zip(X_train, y_train):       # iteruj po zdaniach i etykietach\n",
    "    trainer.append(xseq, yseq)                 # dopisuj do obiektu trenującego nasze dane\n",
    "    \n",
    "trainer.set_params({\n",
    "    'c1': 1.0,   # parametr regularyzacyjny L1\n",
    "    'c2': 1e-3,  # parametr regularyzacyjny L2\n",
    "    'max_iterations': 50,  # maksymalna liczba iteracji\n",
    "    # dodaj tranzycje, które nie są obserwowane ale są możliwe\n",
    "    'feature.possible_transitions': True\n",
    "})\n",
    "\n",
    "trainer.train('conll2002-esp.crfsuite')       # wytrenuj model i zapisz do pliku!\n",
    "\n",
    "tagger = pycrfsuite.Tagger()                  # stwórz tagger, który będzie nadawał etykiety naszej sekwencji\n",
    "tagger.open('conll2002-esp.crfsuite')         # załaduj do niego wytrenowany model\n",
    "example_sent = test_sents[0]                  # weź pierwsze z brzegu zdanie, które nie brało udziału w treningu\n",
    "print(' '.join(sent2tokens(example_sent)), end='\\n\\n')   # wyświetl je...\n",
    "\n",
    "print(\"Predicted:\", ' '.join(tagger.tag(sent2features(example_sent))))  # zobacz, co generuje nasz model\n",
    "print(\"Correct:  \", ' '.join(sent2labels(example_sent)))                # i to, czego oczekiwano!"
   ]
  },
  {
   "cell_type": "markdown",
   "metadata": {
    "collapsed": true
   },
   "source": [
    "## Ekstrakcja fraz rzeczownikowych\n",
    "\n",
    "Czasami chcielibyśmy z danego tekstu wyekstrahować nie tylko encje, na których nasz NER jest wytrenowany (pewien podzbiór kategorii), ale wszystkie frazy opisujące obiekty. Po co? przydać się to może np. przy tworzeniu tzw. chmury słów kluczowych, której przykład znajdziecie poniżej, bądź w problemach automatycznego odpowiadania na pytania.\n",
    "\n",
    "<img src=\"./cloud.jpg\"/>\n",
    "\n",
    "Wydawałoby się, że aby tego dokonać, sensownym podejściem byłoby zidentyfikowanie wszystkich rzeczowników, np. w zdaniu \"Ala ma piękny mały dom\", rzeczownikami są: \"Ala\", \"dom\". \n",
    "Ograniczając się do rzeczowników, tracimy jednak ważne informacje, które opisują rzeczowniki, np. bardzo istotne może być zapamiętanie, że dom Ali jest piękny i mały.\n",
    "\n",
    "Czy istnieje sposób automatycznego ekstrahowania całych tzw. fraz rzeczownikowych? (https://pl.wikipedia.org/wiki/Fraza_nominalna)\n",
    "\n",
    "Oczywiście, z pomocą przychodzą narzędzia takie jak SpaCy czy NLTK.\n",
    "\n",
    "**Zadanie4 (1 punkt)** Korzystając z dokumentacji SpaCy, zidentyfikuj wszystkie frazy rzeczownikowe (noun chunks) z zadanego zdania."
   ]
  },
  {
   "cell_type": "code",
   "execution_count": 8,
   "metadata": {},
   "outputs": [
    {
     "name": "stdout",
     "output_type": "stream",
     "text": [
      "Jim Gates\n",
      "300 shares\n",
      "Acme Corp\n",
      "a tiny beautiful house\n"
     ]
    }
   ],
   "source": [
    "import spacy\n",
    "\n",
    "sentence = \"Jim Gates bought 300 shares of Acme Corp and a tiny beautiful house.\"\n",
    "\n",
    "doc = nlp(sentence)\n",
    "noun_chunks = doc.noun_chunks\n",
    "for i in noun_chunks:\n",
    "    print(i.text)"
   ]
  },
  {
   "cell_type": "markdown",
   "metadata": {
    "collapsed": true
   },
   "source": [
    "Oczekiwany rezultat:\n",
    "\n",
    "<pre>\n",
    "Jim Gates\n",
    "300 shares\n",
    "Acme Corp\n",
    "a tiny beautiful house\n",
    "</pre>"
   ]
  },
  {
   "cell_type": "code",
   "execution_count": null,
   "metadata": {
    "collapsed": true
   },
   "outputs": [],
   "source": []
  }
 ],
 "metadata": {
  "kernelspec": {
   "display_name": "Python 3",
   "language": "python",
   "name": "python3"
  },
  "language_info": {
   "codemirror_mode": {
    "name": "ipython",
    "version": 3
   },
   "file_extension": ".py",
   "mimetype": "text/x-python",
   "name": "python",
   "nbconvert_exporter": "python",
   "pygments_lexer": "ipython3",
   "version": "3.7.4"
  }
 },
 "nbformat": 4,
 "nbformat_minor": 2
}
